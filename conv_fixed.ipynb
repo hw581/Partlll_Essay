{
  "nbformat": 4,
  "nbformat_minor": 0,
  "metadata": {
    "colab": {
      "provenance": [],
      "authorship_tag": "ABX9TyNdyw6p9oQ7YxpZkHMRGrB2"
    },
    "kernelspec": {
      "name": "python3",
      "display_name": "Python 3"
    },
    "language_info": {
      "name": "python"
    }
  },
  "cells": [
    {
      "cell_type": "code",
      "execution_count": 1,
      "metadata": {
        "id": "qnQbQXv0WLcQ"
      },
      "outputs": [],
      "source": [
        "##This code is for finding minimal value for training data by convex formulation based on the paper\n",
        "##\"Neural Networks are Convex Regularizers: Exact Polynomial-time Convex Optimization Formulations for Two-layer Networks\"\n",
        "##regression (squared loss), fixed design. response y is random\n",
        "import numpy as np\n",
        "import cvxpy as cp\n",
        "import matplotlib.pyplot as plt\n",
        "import torch"
      ]
    },
    {
      "cell_type": "code",
      "source": [
        "def relu(x):\n",
        "    return np.maximum(0,x)\n",
        "def drelu(x):\n",
        "    return x>=0\n",
        "n=5 # number of samples\n",
        "d=2 # dimension of the data\n",
        "beta=1e-3 # regularization parameter\n",
        "dv=1 #standard deviation of noise"
      ],
      "metadata": {
        "id": "nF4FgU9zYCmP"
      },
      "execution_count": 83,
      "outputs": []
    },
    {
      "cell_type": "code",
      "source": [
        "X = torch.tensor([[2.0, 1.0],\n",
        "                  [1.0, 2.0],\n",
        "                  [2.0, 4.0],\n",
        "                  [4.0, 2.0],\n",
        "                  [-1, 1.0]], dtype=torch.float32)\n",
        "# Number of rows in X\n",
        "n = X.size(0)\n",
        "\n",
        "# Create a column of ones\n",
        "ones_column = torch.ones((n, 1))\n",
        "\n",
        "# Concatenate the ones column at the front of X\n",
        "#X = torch.cat((ones_column, X), dim=1)\n",
        "\n",
        "Y = torch.tensor([1.0, -1.0, -1.0, 1.0, -1.0], dtype=torch.float32)\n",
        "# Fix the random seed for reproducibility\n",
        "torch.manual_seed(42)  # You can use any integer value here\n",
        "# Generate Gaussian noise with the same shape as Y (mean=0, std=dv)\n",
        "noise = dv*torch.randn_like(Y)\n",
        "\n",
        "# Add Gaussian noise to Y\n",
        "Y = Y + noise"
      ],
      "metadata": {
        "id": "O5Soe_zNQ_kt"
      },
      "execution_count": 84,
      "outputs": []
    },
    {
      "cell_type": "code",
      "source": [
        "print(X)\n",
        "print(Y)"
      ],
      "metadata": {
        "colab": {
          "base_uri": "https://localhost:8080/"
        },
        "id": "SDjrfd_VV88S",
        "outputId": "28e16280-ac7b-49af-cacd-669f45c3d074"
      },
      "execution_count": 85,
      "outputs": [
        {
          "output_type": "stream",
          "name": "stdout",
          "text": [
            "tensor([[ 2.,  1.],\n",
            "        [ 1.,  2.],\n",
            "        [ 2.,  4.],\n",
            "        [ 4.,  2.],\n",
            "        [-1.,  1.]])\n",
            "tensor([ 1.3367, -0.8712, -0.7655,  1.2303, -2.1229])\n"
          ]
        }
      ]
    },
    {
      "cell_type": "code",
      "source": [
        "# 1. Generate random dataset with n samples\n",
        "\n",
        "#X = torch.rand(n, 2) * 5 - 5 # Random 2D input in range [-5, 5)\n",
        "# Create Y based on the first element of each row in X\n",
        "#Y = torch.where(X[:, 0] >X[:,1] , torch.tensor(1), torch.tensor(-1))\n",
        "#X = torch.normal(mean=0, std=1,size=(n,1))\n",
        "#X = torch.cat((X, torch.ones(n, 1)), 1)\n",
        "#Y = torch.normal(mean=1, std=1, size=(n,1))\n",
        "#Y = torch.rand(n, 1)"
      ],
      "metadata": {
        "id": "hlhAbcp1YJnT"
      },
      "execution_count": 86,
      "outputs": []
    },
    {
      "cell_type": "code",
      "source": [
        "Y=Y.numpy()"
      ],
      "metadata": {
        "id": "In_b0FgBYLzS"
      },
      "execution_count": 87,
      "outputs": []
    },
    {
      "cell_type": "code",
      "source": [
        "##Check\n",
        "print(X.shape)\n",
        "print(Y.shape)\n",
        "print(type(X))\n",
        "print(type(Y))\n",
        "print(X[:10])\n",
        "print(Y[:10])"
      ],
      "metadata": {
        "colab": {
          "base_uri": "https://localhost:8080/"
        },
        "id": "RhznWz_xYPwR",
        "outputId": "1f81d920-b8e7-4623-aec6-a0cc2b3aadd2"
      },
      "execution_count": 88,
      "outputs": [
        {
          "output_type": "stream",
          "name": "stdout",
          "text": [
            "torch.Size([5, 2])\n",
            "(5,)\n",
            "<class 'torch.Tensor'>\n",
            "<class 'numpy.ndarray'>\n",
            "tensor([[ 2.,  1.],\n",
            "        [ 1.,  2.],\n",
            "        [ 2.,  4.],\n",
            "        [ 4.,  2.],\n",
            "        [-1.,  1.]])\n",
            "[ 1.3366904 -0.8711906 -0.7655376  1.2303331 -2.1228564]\n"
          ]
        }
      ]
    },
    {
      "cell_type": "code",
      "source": [
        "dmat=np.empty((n,0))"
      ],
      "metadata": {
        "id": "y_yZfvPfYUHz"
      },
      "execution_count": 89,
      "outputs": []
    },
    {
      "cell_type": "code",
      "source": [
        "print(dmat)\n",
        "print(dmat.shape)"
      ],
      "metadata": {
        "colab": {
          "base_uri": "https://localhost:8080/"
        },
        "id": "nxrfV1gPYWN3",
        "outputId": "53820a92-9da6-4194-fc7b-6c1dccdb8206"
      },
      "execution_count": 90,
      "outputs": [
        {
          "output_type": "stream",
          "name": "stdout",
          "text": [
            "[]\n",
            "(5, 0)\n"
          ]
        }
      ]
    },
    {
      "cell_type": "code",
      "source": [
        "## Finite approximation of all possible sign patterns\n",
        "for i in range(int(1e5)):\n",
        "    u=np.random.randn(d,1)\n",
        "    #u is a 2D array of shape (d, 1) filled with random floats sampled from a standard normal distribution (mean = 0, standard deviation = 1)\n",
        "    dmat=np.append(dmat,drelu(np.dot(X,u)),axis=1)\n",
        "    #The function appends the result of drelu(np.dot(X, u)) as a new column to the right of the dmat array.\n",
        "\n",
        "dmat=(np.unique(dmat,axis=1))"
      ],
      "metadata": {
        "id": "3uf45cTeYYZW"
      },
      "execution_count": 91,
      "outputs": []
    },
    {
      "cell_type": "code",
      "source": [
        "#Ensure that dmat.shape is (5,6) for this example\n",
        "#If not, increase the range for i\n",
        "print(dmat.shape)"
      ],
      "metadata": {
        "colab": {
          "base_uri": "https://localhost:8080/"
        },
        "id": "cgLoFTuaYaCo",
        "outputId": "f8e853bf-d513-4b0c-fdfc-d6d69bdf295b"
      },
      "execution_count": 92,
      "outputs": [
        {
          "output_type": "stream",
          "name": "stdout",
          "text": [
            "(5, 6)\n"
          ]
        }
      ]
    },
    {
      "cell_type": "code",
      "source": [
        "# Optimal CVX\n",
        "m1=dmat.shape[1] #m1=number of columns in dmat\n",
        "#Uopt1 and Uopt2 to represent v and t to be optimised\n",
        "Uopt1=cp.Variable((d,m1))\n",
        "Uopt2=cp.Variable((d,m1))"
      ],
      "metadata": {
        "id": "xBJe1fr-YfIX"
      },
      "execution_count": 93,
      "outputs": []
    },
    {
      "cell_type": "code",
      "source": [
        "#A symbolic representation of a quantity in Python refers to a mathematical expression or object that represents a value without specifying the actual value.\n",
        "# Instead of directly working with numbers, symbolic representations allow you to manipulate, simplify, and solve mathematical expressions symbolically.\n",
        "print(Uopt1)\n",
        "print(m1)\n",
        "print(Uopt1.shape)"
      ],
      "metadata": {
        "colab": {
          "base_uri": "https://localhost:8080/"
        },
        "id": "d78y99dvYhid",
        "outputId": "f7475a04-5f90-42e6-eb4f-d7bf763c4a0e"
      },
      "execution_count": 94,
      "outputs": [
        {
          "output_type": "stream",
          "name": "stdout",
          "text": [
            "var409\n",
            "6\n",
            "(2, 6)\n"
          ]
        }
      ]
    },
    {
      "cell_type": "code",
      "source": [
        "yopt1=cp.Parameter((n,1))\n",
        "yopt2=cp.Parameter((n,1))\n"
      ],
      "metadata": {
        "id": "HLWeBoPFYkUf"
      },
      "execution_count": 95,
      "outputs": []
    },
    {
      "cell_type": "code",
      "source": [
        "#yopt1 and yopt2 to represent a fixed vector DXv and DXt\n",
        "yopt1=cp.sum(cp.multiply(dmat,(X*Uopt1)),axis=1)\n",
        "yopt2=cp.sum(cp.multiply(dmat,(X*Uopt2)),axis=1)"
      ],
      "metadata": {
        "colab": {
          "base_uri": "https://localhost:8080/"
        },
        "id": "p25K8Q2BaO1Y",
        "outputId": "ba2fd60f-5705-4224-879a-76c15dbba67d"
      },
      "execution_count": 96,
      "outputs": [
        {
          "output_type": "stream",
          "name": "stderr",
          "text": [
            "/usr/local/lib/python3.11/dist-packages/cvxpy/expressions/expression.py:667: UserWarning: \n",
            "This use of ``*`` has resulted in matrix multiplication.\n",
            "Using ``*`` for matrix multiplication has been deprecated since CVXPY 1.1.\n",
            "    Use ``*`` for matrix-scalar and vector-scalar multiplication.\n",
            "    Use ``@`` for matrix-matrix and matrix-vector multiplication.\n",
            "    Use ``multiply`` for elementwise multiplication.\n",
            "This code path has been hit 17 times so far.\n",
            "\n",
            "  warnings.warn(msg, UserWarning)\n",
            "/usr/local/lib/python3.11/dist-packages/cvxpy/expressions/expression.py:667: UserWarning: \n",
            "This use of ``*`` has resulted in matrix multiplication.\n",
            "Using ``*`` for matrix multiplication has been deprecated since CVXPY 1.1.\n",
            "    Use ``*`` for matrix-scalar and vector-scalar multiplication.\n",
            "    Use ``@`` for matrix-matrix and matrix-vector multiplication.\n",
            "    Use ``multiply`` for elementwise multiplication.\n",
            "This code path has been hit 18 times so far.\n",
            "\n",
            "  warnings.warn(msg, UserWarning)\n"
          ]
        }
      ]
    },
    {
      "cell_type": "code",
      "source": [
        "## Below we use hinge loss as a performance metric for binary classification\n",
        "cost=cp.sum((Y - (yopt1 - yopt2))**2)/n + (beta/2)*(cp.norm(Uopt1, 'fro')**2 + cp.norm(Uopt2, 'fro')**2)"
      ],
      "metadata": {
        "id": "Wa7ZuIrLYwgD"
      },
      "execution_count": 97,
      "outputs": []
    },
    {
      "cell_type": "code",
      "source": [
        "constraints=[]\n",
        "constraints+=[cp.multiply((2*dmat-np.ones((n,m1))),(X*Uopt1))>=0]\n",
        "constraints+=[cp.multiply((2*dmat-np.ones((n,m1))),(X*Uopt2))>=0]"
      ],
      "metadata": {
        "colab": {
          "base_uri": "https://localhost:8080/"
        },
        "id": "pKaFh0MqY125",
        "outputId": "468705d2-b679-44d7-c0ff-077837c54960"
      },
      "execution_count": 98,
      "outputs": [
        {
          "output_type": "stream",
          "name": "stderr",
          "text": [
            "/usr/local/lib/python3.11/dist-packages/cvxpy/expressions/expression.py:667: UserWarning: \n",
            "This use of ``*`` has resulted in matrix multiplication.\n",
            "Using ``*`` for matrix multiplication has been deprecated since CVXPY 1.1.\n",
            "    Use ``*`` for matrix-scalar and vector-scalar multiplication.\n",
            "    Use ``@`` for matrix-matrix and matrix-vector multiplication.\n",
            "    Use ``multiply`` for elementwise multiplication.\n",
            "This code path has been hit 19 times so far.\n",
            "\n",
            "  warnings.warn(msg, UserWarning)\n",
            "/usr/local/lib/python3.11/dist-packages/cvxpy/expressions/expression.py:667: UserWarning: \n",
            "This use of ``*`` has resulted in matrix multiplication.\n",
            "Using ``*`` for matrix multiplication has been deprecated since CVXPY 1.1.\n",
            "    Use ``*`` for matrix-scalar and vector-scalar multiplication.\n",
            "    Use ``@`` for matrix-matrix and matrix-vector multiplication.\n",
            "    Use ``multiply`` for elementwise multiplication.\n",
            "This code path has been hit 20 times so far.\n",
            "\n",
            "  warnings.warn(msg, UserWarning)\n"
          ]
        }
      ]
    },
    {
      "cell_type": "code",
      "source": [
        "prob=cp.Problem(cp.Minimize(cost),constraints)\n",
        "prob.solve()\n",
        "cvx_opt=prob.value"
      ],
      "metadata": {
        "id": "Rpr1mHAMY4fK"
      },
      "execution_count": 99,
      "outputs": []
    },
    {
      "cell_type": "code",
      "source": [
        "print(\"Convex program objective value: \",cvx_opt)"
      ],
      "metadata": {
        "colab": {
          "base_uri": "https://localhost:8080/"
        },
        "id": "zhKsWrcLY6Yx",
        "outputId": "b7d6f6e3-6d2b-47f8-f68c-1ff4edb461b1"
      },
      "execution_count": 100,
      "outputs": [
        {
          "output_type": "stream",
          "name": "stdout",
          "text": [
            "Convex program objective value:  0.121892128874057\n"
          ]
        }
      ]
    }
  ]
}