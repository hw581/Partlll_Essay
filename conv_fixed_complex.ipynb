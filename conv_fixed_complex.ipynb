{
  "nbformat": 4,
  "nbformat_minor": 0,
  "metadata": {
    "colab": {
      "provenance": [],
      "authorship_tag": "ABX9TyN0gJvNvjkPrSzlIq9+rKLk"
    },
    "kernelspec": {
      "name": "python3",
      "display_name": "Python 3"
    },
    "language_info": {
      "name": "python"
    }
  },
  "cells": [
    {
      "cell_type": "code",
      "execution_count": null,
      "metadata": {
        "id": "qnQbQXv0WLcQ"
      },
      "outputs": [],
      "source": [
        "##This code is for finding minimal value for training data by convex formulation based on the idea from the paper\n",
        "##\"Neural Networks are Convex Regularizers: Exact Polynomial-time Convex Optimization Formulations for Two-layer Networks\"\n",
        "##regression (squared loss), fixed design\n",
        "import numpy as np\n",
        "import cvxpy as cp\n",
        "import matplotlib.pyplot as plt\n",
        "import torch"
      ]
    },
    {
      "cell_type": "code",
      "source": [
        "def relu(x):\n",
        "    return np.maximum(0,x)\n",
        "def drelu(x):\n",
        "    return x>=0\n",
        "n=5 # number of samples\n",
        "d=2 # dimension of the data\n",
        "beta=1e-3 # regularization parameter\n",
        "\n",
        "# Adjust variables for each experiment\n",
        "dv=0.1 # standard deviation of noise"
      ],
      "metadata": {
        "id": "nF4FgU9zYCmP"
      },
      "execution_count": null,
      "outputs": []
    },
    {
      "cell_type": "code",
      "source": [
        "# Training data\n",
        "X = torch.tensor([[1.5, 1.0],\n",
        "                  [2.5, 2.0],\n",
        "                  [2.0, 2.0],\n",
        "                  [1.0, 1.5],\n",
        "                  [2.0, 2.5]], dtype=torch.float32)\n",
        "\n",
        "Y = torch.tensor([1.0, 1.0, -1.0, -1.0, -1.0], dtype=torch.float32)\n",
        "# Fix the random seed for reproducibility\n",
        "torch.manual_seed(42)\n",
        "# Generate Gaussian noise with the same shape as Y (mean=0, std=dv)\n",
        "noise = dv*torch.randn_like(Y)\n",
        "\n",
        "# Add Gaussian noise to Y\n",
        "Y = Y + noise"
      ],
      "metadata": {
        "id": "O5Soe_zNQ_kt"
      },
      "execution_count": null,
      "outputs": []
    },
    {
      "cell_type": "code",
      "source": [
        "# Check training data\n",
        "print(X)\n",
        "print(Y)\n",
        "Y=Y.numpy()"
      ],
      "metadata": {
        "colab": {
          "base_uri": "https://localhost:8080/"
        },
        "id": "SDjrfd_VV88S",
        "outputId": "4cd8692d-f3e0-4e1d-bdaf-6da4bf327621"
      },
      "execution_count": null,
      "outputs": [
        {
          "output_type": "stream",
          "name": "stdout",
          "text": [
            "tensor([[1.5000, 1.0000],\n",
            "        [2.5000, 2.0000],\n",
            "        [2.0000, 2.0000],\n",
            "        [1.0000, 1.5000],\n",
            "        [2.0000, 2.5000]])\n",
            "tensor([ 1.0337,  1.0129, -0.9766, -0.9770, -1.1123])\n"
          ]
        }
      ]
    },
    {
      "cell_type": "code",
      "source": [
        "# Matrix to store hyperplane arrangements for X\n",
        "dmat=np.empty((n,0))"
      ],
      "metadata": {
        "id": "y_yZfvPfYUHz"
      },
      "execution_count": null,
      "outputs": []
    },
    {
      "cell_type": "code",
      "source": [
        "# Finite approximation of all possible sign patterns\n",
        "for i in range(int(1e5)):\n",
        "    u=np.random.randn(d,1)\n",
        "    #u is a 2D array of shape (d, 1) filled with random floats sampled from a standard normal distribution (mean = 0, standard deviation = 1)\n",
        "    dmat=np.append(dmat,drelu(np.dot(X,u)),axis=1)\n",
        "    #The function appends the result of drelu(np.dot(X, u)) as a new column to the right of the dmat array.\n",
        "\n",
        "dmat=(np.unique(dmat,axis=1))"
      ],
      "metadata": {
        "id": "3uf45cTeYYZW",
        "colab": {
          "base_uri": "https://localhost:8080/"
        },
        "outputId": "5b74e0d2-bca1-42ce-9d2c-cbfa4ee1b0f4"
      },
      "execution_count": null,
      "outputs": [
        {
          "output_type": "stream",
          "name": "stderr",
          "text": [
            "<ipython-input-8-286a78cbd0b5>:5: DeprecationWarning: __array__ implementation doesn't accept a copy keyword, so passing copy=False failed. __array__ must implement 'dtype' and 'copy' keyword arguments.\n",
            "  dmat=np.append(dmat,drelu(np.dot(X,u)),axis=1)\n"
          ]
        }
      ]
    },
    {
      "cell_type": "code",
      "source": [
        "# For this input X, the number of hyperplane arrangements are 10\n",
        "# Ensure that dmat.shape is (5,10) for this data\n",
        "# If not, increase the range for i\n",
        "print(dmat.shape)"
      ],
      "metadata": {
        "colab": {
          "base_uri": "https://localhost:8080/"
        },
        "id": "cgLoFTuaYaCo",
        "outputId": "b3b646d2-222b-47d3-aa8a-b91bd8902806"
      },
      "execution_count": null,
      "outputs": [
        {
          "output_type": "stream",
          "name": "stdout",
          "text": [
            "(5, 10)\n"
          ]
        }
      ]
    },
    {
      "cell_type": "code",
      "source": [
        "# Optimal CVX\n",
        "m1=dmat.shape[1] #m1=number of columns in dmat\n",
        "# Uopt1 and Uopt2 to represent v and t to be optimised\n",
        "Uopt1=cp.Variable((d,m1))\n",
        "Uopt2=cp.Variable((d,m1))"
      ],
      "metadata": {
        "id": "xBJe1fr-YfIX"
      },
      "execution_count": null,
      "outputs": []
    },
    {
      "cell_type": "code",
      "source": [
        "#A symbolic representation of a quantity in Python refers to a mathematical expression or object that represents a value without specifying the actual value.\n",
        "# Instead of directly working with numbers, symbolic representations allow you to manipulate, simplify, and solve mathematical expressions symbolically.\n",
        "print(Uopt1)\n",
        "print(m1)\n",
        "print(Uopt1.shape)"
      ],
      "metadata": {
        "colab": {
          "base_uri": "https://localhost:8080/"
        },
        "id": "d78y99dvYhid",
        "outputId": "3772342d-c0f9-4d50-c01d-4452533d8106"
      },
      "execution_count": null,
      "outputs": [
        {
          "output_type": "stream",
          "name": "stdout",
          "text": [
            "var1\n",
            "10\n",
            "(2, 10)\n"
          ]
        }
      ]
    },
    {
      "cell_type": "code",
      "source": [
        "# yopt1 and yopt2 to represent a fixed vector DXv and DXt\n",
        "yopt1=cp.Parameter((n,1))\n",
        "yopt2=cp.Parameter((n,1))\n",
        "yopt1=cp.sum(cp.multiply(dmat,(X*Uopt1)),axis=1)\n",
        "yopt2=cp.sum(cp.multiply(dmat,(X*Uopt2)),axis=1)"
      ],
      "metadata": {
        "id": "HLWeBoPFYkUf"
      },
      "execution_count": null,
      "outputs": []
    },
    {
      "cell_type": "code",
      "source": [
        "# We use MSE+regularization term as a performance metric\n",
        "cost=cp.sum((Y - (yopt1 - yopt2))**2)/n + (beta/2)*(cp.norm(Uopt1, 'fro')**2 + cp.norm(Uopt2, 'fro')**2)"
      ],
      "metadata": {
        "id": "Wa7ZuIrLYwgD"
      },
      "execution_count": null,
      "outputs": []
    },
    {
      "cell_type": "code",
      "source": [
        "# Add constraints\n",
        "constraints=[]\n",
        "constraints+=[cp.multiply((2*dmat-np.ones((n,m1))),(X*Uopt1))>=0]\n",
        "constraints+=[cp.multiply((2*dmat-np.ones((n,m1))),(X*Uopt2))>=0]"
      ],
      "metadata": {
        "colab": {
          "base_uri": "https://localhost:8080/"
        },
        "id": "pKaFh0MqY125",
        "outputId": "6b4142e6-546b-43fd-dc29-b87721018dac"
      },
      "execution_count": null,
      "outputs": [
        {
          "output_type": "stream",
          "name": "stderr",
          "text": [
            "/usr/local/lib/python3.11/dist-packages/cvxpy/expressions/expression.py:674: UserWarning: \n",
            "This use of ``*`` has resulted in matrix multiplication.\n",
            "Using ``*`` for matrix multiplication has been deprecated since CVXPY 1.1.\n",
            "    Use ``*`` for matrix-scalar and vector-scalar multiplication.\n",
            "    Use ``@`` for matrix-matrix and matrix-vector multiplication.\n",
            "    Use ``multiply`` for elementwise multiplication.\n",
            "This code path has been hit 3 times so far.\n",
            "\n",
            "  warnings.warn(msg, UserWarning)\n",
            "/usr/local/lib/python3.11/dist-packages/cvxpy/expressions/expression.py:674: UserWarning: \n",
            "This use of ``*`` has resulted in matrix multiplication.\n",
            "Using ``*`` for matrix multiplication has been deprecated since CVXPY 1.1.\n",
            "    Use ``*`` for matrix-scalar and vector-scalar multiplication.\n",
            "    Use ``@`` for matrix-matrix and matrix-vector multiplication.\n",
            "    Use ``multiply`` for elementwise multiplication.\n",
            "This code path has been hit 4 times so far.\n",
            "\n",
            "  warnings.warn(msg, UserWarning)\n"
          ]
        }
      ]
    },
    {
      "cell_type": "code",
      "source": [
        "prob=cp.Problem(cp.Minimize(cost),constraints)\n",
        "prob.solve()\n",
        "cvx_opt=prob.value"
      ],
      "metadata": {
        "id": "Rpr1mHAMY4fK"
      },
      "execution_count": null,
      "outputs": []
    },
    {
      "cell_type": "code",
      "source": [
        "print(\"Convex program objective value: \",cvx_opt)"
      ],
      "metadata": {
        "colab": {
          "base_uri": "https://localhost:8080/"
        },
        "id": "zhKsWrcLY6Yx",
        "outputId": "9876fbed-e6e4-4af3-9fdd-5641b2618322"
      },
      "execution_count": null,
      "outputs": [
        {
          "output_type": "stream",
          "name": "stdout",
          "text": [
            "Convex program objective value:  0.006359038035052685\n"
          ]
        }
      ]
    }
  ]
}