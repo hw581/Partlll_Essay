{
  "nbformat": 4,
  "nbformat_minor": 0,
  "metadata": {
    "colab": {
      "provenance": [],
      "authorship_tag": "ABX9TyPS+BBsO1l/TOODA/3BYfJY"
    },
    "kernelspec": {
      "name": "python3",
      "display_name": "Python 3"
    },
    "language_info": {
      "name": "python"
    }
  },
  "cells": [
    {
      "cell_type": "code",
      "execution_count": null,
      "metadata": {
        "id": "qnQbQXv0WLcQ"
      },
      "outputs": [],
      "source": [
        "## This is a basic CVXPY based implementation on a toy dataset for the paper\n",
        "## \"Neural Networks are Convex Regularizers: Exact Polynomial-time Convex Optimization Formulations for Two-layer Networks\"\n",
        "import numpy as np\n",
        "import cvxpy as cp\n",
        "import matplotlib.pyplot as plt\n",
        "import torch"
      ]
    },
    {
      "cell_type": "code",
      "source": [
        "def relu(x):\n",
        "    return np.maximum(0,x)\n",
        "def drelu(x):\n",
        "    return x>=0\n",
        "n=5 # number of samples\n",
        "d=2 # dimension of the data\n",
        "beta=1e-3 # regularization parameter"
      ],
      "metadata": {
        "id": "nF4FgU9zYCmP"
      },
      "execution_count": null,
      "outputs": []
    },
    {
      "cell_type": "code",
      "source": [
        "seed_value = 42\n",
        "torch.manual_seed(seed_value)  # Set the seed for PyTorch"
      ],
      "metadata": {
        "colab": {
          "base_uri": "https://localhost:8080/"
        },
        "id": "esHbEjdwYG-j",
        "outputId": "a86b0d0e-c32c-49a8-ac2b-1a7b2673cd20"
      },
      "execution_count": null,
      "outputs": [
        {
          "output_type": "execute_result",
          "data": {
            "text/plain": [
              "<torch._C.Generator at 0x7ccd64e04ad0>"
            ]
          },
          "metadata": {},
          "execution_count": 5
        }
      ]
    },
    {
      "cell_type": "code",
      "source": [
        "# 1. Generate random dataset with n samples\n",
        "\n",
        "X = torch.rand(n, 2) * 10 - 5 # Random 2D input in range [-5, 5)\n",
        "# Create Y based on the first element of each row in X"
      ],
      "metadata": {
        "id": "hlhAbcp1YJnT"
      },
      "execution_count": null,
      "outputs": []
    },
    {
      "cell_type": "code",
      "source": [
        "X=X.numpy()\n",
        "Y=Y.numpy()"
      ],
      "metadata": {
        "id": "In_b0FgBYLzS"
      },
      "execution_count": null,
      "outputs": []
    },
    {
      "cell_type": "code",
      "source": [
        "##Check\n",
        "print(X.shape)\n",
        "print(Y.shape)\n",
        "print(type(X))\n",
        "print(type(Y))\n",
        "print(X[:10])\n",
        "print(Y[:10])"
      ],
      "metadata": {
        "colab": {
          "base_uri": "https://localhost:8080/"
        },
        "id": "RhznWz_xYPwR",
        "outputId": "826d202e-9018-4b31-be05-21cce64a4c89"
      },
      "execution_count": null,
      "outputs": [
        {
          "output_type": "stream",
          "name": "stdout",
          "text": [
            "(5, 2)\n",
            "(5,)\n",
            "<class 'numpy.ndarray'>\n",
            "<class 'numpy.ndarray'>\n",
            "[[-0.58865356 -0.42498016]\n",
            " [-3.0856812  -0.20347166]\n",
            " [-3.047759   -1.9955232 ]\n",
            " [-3.7171376  -1.0317934 ]\n",
            " [-0.29614258 -4.33407   ]]\n",
            "[-1 -1 -1 -1  1]\n"
          ]
        }
      ]
    },
    {
      "cell_type": "code",
      "source": [
        "dmat=np.empty((n,0))"
      ],
      "metadata": {
        "id": "y_yZfvPfYUHz"
      },
      "execution_count": null,
      "outputs": []
    },
    {
      "cell_type": "code",
      "source": [
        "print(dmat)\n",
        "print(dmat.shape)"
      ],
      "metadata": {
        "colab": {
          "base_uri": "https://localhost:8080/"
        },
        "id": "nxrfV1gPYWN3",
        "outputId": "ae1f258b-2fbf-492b-e7ba-dcd4b12e9e64"
      },
      "execution_count": null,
      "outputs": [
        {
          "output_type": "stream",
          "name": "stdout",
          "text": [
            "[]\n",
            "(5, 0)\n"
          ]
        }
      ]
    },
    {
      "cell_type": "code",
      "source": [
        "## Finite approximation of all possible sign patterns\n",
        "for i in range(int(1e5)):\n",
        "    u=np.random.randn(d,1)\n",
        "    #u is a 2D array of shape (d, 1) filled with random floats sampled from a standard normal distribution (mean = 0, standard deviation = 1)\n",
        "    dmat=np.append(dmat,drelu(np.dot(X,u)),axis=1)\n",
        "    #The function appends the result of drelu(np.dot(X, u)) as a new column to the right of the dmat array.\n",
        "\n",
        "dmat=(np.unique(dmat,axis=1))"
      ],
      "metadata": {
        "id": "3uf45cTeYYZW"
      },
      "execution_count": null,
      "outputs": []
    },
    {
      "cell_type": "code",
      "source": [
        "print(dmat)"
      ],
      "metadata": {
        "colab": {
          "base_uri": "https://localhost:8080/"
        },
        "id": "cgLoFTuaYaCo",
        "outputId": "25d409d1-6a99-44d7-f10c-d4613e2b8559"
      },
      "execution_count": null,
      "outputs": [
        {
          "output_type": "stream",
          "name": "stdout",
          "text": [
            "[[0. 0. 0. 0. 0. 1. 1. 1. 1. 1.]\n",
            " [0. 0. 1. 1. 1. 0. 0. 0. 1. 1.]\n",
            " [0. 0. 0. 0. 1. 0. 1. 1. 1. 1.]\n",
            " [0. 0. 0. 1. 1. 0. 0. 1. 1. 1.]\n",
            " [0. 1. 0. 0. 0. 1. 1. 1. 0. 1.]]\n"
          ]
        }
      ]
    },
    {
      "cell_type": "code",
      "source": [
        "# Optimal CVX\n",
        "m1=dmat.shape[1] #m1=number of columns in dmat\n",
        "Uopt1=cp.Variable((d,m1))\n",
        "Uopt2=cp.Variable((d,m1))"
      ],
      "metadata": {
        "id": "xBJe1fr-YfIX"
      },
      "execution_count": null,
      "outputs": []
    },
    {
      "cell_type": "code",
      "source": [
        "#A symbolic representation of a quantity in Python refers to a mathematical expression or object that represents a value without specifying the actual value.\n",
        "# Instead of directly working with numbers, symbolic representations allow you to manipulate, simplify, and solve mathematical expressions symbolically.\n",
        "print(Uopt1)\n",
        "print(m1)\n",
        "print(Uopt1.shape)"
      ],
      "metadata": {
        "colab": {
          "base_uri": "https://localhost:8080/"
        },
        "id": "d78y99dvYhid",
        "outputId": "93ff16bd-65cf-45af-8fce-19b689538ce8"
      },
      "execution_count": null,
      "outputs": [
        {
          "output_type": "stream",
          "name": "stdout",
          "text": [
            "var205\n",
            "10\n",
            "(2, 10)\n"
          ]
        }
      ]
    },
    {
      "cell_type": "code",
      "source": [
        "## Below we use hinge loss as a performance metric for binary classification\n",
        "yopt1=cp.Parameter((n,1))\n",
        "yopt2=cp.Parameter((n,1))\n",
        "#You would use it to represent a fixed vector that doesn't change during the optimization, but its values can be set before or during the optimization."
      ],
      "metadata": {
        "id": "HLWeBoPFYkUf"
      },
      "execution_count": null,
      "outputs": []
    },
    {
      "cell_type": "code",
      "source": [
        "yopt1=cp.sum(cp.multiply(dmat,(X*Uopt1)),axis=1)\n",
        "yopt2=cp.sum(cp.multiply(dmat,(X*Uopt2)),axis=1)"
      ],
      "metadata": {
        "colab": {
          "base_uri": "https://localhost:8080/"
        },
        "id": "p25K8Q2BaO1Y",
        "outputId": "28e1a6e9-1b64-4ee0-84d9-1b2921f72353"
      },
      "execution_count": null,
      "outputs": [
        {
          "output_type": "stream",
          "name": "stderr",
          "text": [
            "/usr/local/lib/python3.11/dist-packages/cvxpy/expressions/expression.py:667: UserWarning: \n",
            "This use of ``*`` has resulted in matrix multiplication.\n",
            "Using ``*`` for matrix multiplication has been deprecated since CVXPY 1.1.\n",
            "    Use ``*`` for matrix-scalar and vector-scalar multiplication.\n",
            "    Use ``@`` for matrix-matrix and matrix-vector multiplication.\n",
            "    Use ``multiply`` for elementwise multiplication.\n",
            "This code path has been hit 9 times so far.\n",
            "\n",
            "  warnings.warn(msg, UserWarning)\n",
            "/usr/local/lib/python3.11/dist-packages/cvxpy/expressions/expression.py:667: UserWarning: \n",
            "This use of ``*`` has resulted in matrix multiplication.\n",
            "Using ``*`` for matrix multiplication has been deprecated since CVXPY 1.1.\n",
            "    Use ``*`` for matrix-scalar and vector-scalar multiplication.\n",
            "    Use ``@`` for matrix-matrix and matrix-vector multiplication.\n",
            "    Use ``multiply`` for elementwise multiplication.\n",
            "This code path has been hit 10 times so far.\n",
            "\n",
            "  warnings.warn(msg, UserWarning)\n"
          ]
        }
      ]
    },
    {
      "cell_type": "code",
      "source": [
        "cost=cp.sum((Y - (yopt1 - yopt2))**2)/n + (beta/2)*(cp.norm(Uopt1, 'fro')**2 + cp.norm(Uopt2, 'fro')**2)"
      ],
      "metadata": {
        "id": "Wa7ZuIrLYwgD"
      },
      "execution_count": null,
      "outputs": []
    },
    {
      "cell_type": "code",
      "source": [
        "constraints=[]\n",
        "constraints+=[cp.multiply((2*dmat-np.ones((n,m1))),(X*Uopt1))>=0]\n",
        "constraints+=[cp.multiply((2*dmat-np.ones((n,m1))),(X*Uopt2))>=0]"
      ],
      "metadata": {
        "colab": {
          "base_uri": "https://localhost:8080/"
        },
        "id": "pKaFh0MqY125",
        "outputId": "82c4392e-bbe5-48d1-e3c0-13cf3a9cde9f"
      },
      "execution_count": null,
      "outputs": [
        {
          "output_type": "stream",
          "name": "stderr",
          "text": [
            "/usr/local/lib/python3.11/dist-packages/cvxpy/expressions/expression.py:667: UserWarning: \n",
            "This use of ``*`` has resulted in matrix multiplication.\n",
            "Using ``*`` for matrix multiplication has been deprecated since CVXPY 1.1.\n",
            "    Use ``*`` for matrix-scalar and vector-scalar multiplication.\n",
            "    Use ``@`` for matrix-matrix and matrix-vector multiplication.\n",
            "    Use ``multiply`` for elementwise multiplication.\n",
            "This code path has been hit 11 times so far.\n",
            "\n",
            "  warnings.warn(msg, UserWarning)\n",
            "/usr/local/lib/python3.11/dist-packages/cvxpy/expressions/expression.py:667: UserWarning: \n",
            "This use of ``*`` has resulted in matrix multiplication.\n",
            "Using ``*`` for matrix multiplication has been deprecated since CVXPY 1.1.\n",
            "    Use ``*`` for matrix-scalar and vector-scalar multiplication.\n",
            "    Use ``@`` for matrix-matrix and matrix-vector multiplication.\n",
            "    Use ``multiply`` for elementwise multiplication.\n",
            "This code path has been hit 12 times so far.\n",
            "\n",
            "  warnings.warn(msg, UserWarning)\n"
          ]
        }
      ]
    },
    {
      "cell_type": "code",
      "source": [
        "prob=cp.Problem(cp.Minimize(cost),constraints)\n",
        "prob.solve()\n",
        "cvx_opt=prob.value"
      ],
      "metadata": {
        "id": "Rpr1mHAMY4fK"
      },
      "execution_count": null,
      "outputs": []
    },
    {
      "cell_type": "code",
      "source": [
        "print(\"Convex program objective value: \",cvx_opt)"
      ],
      "metadata": {
        "colab": {
          "base_uri": "https://localhost:8080/"
        },
        "id": "zhKsWrcLY6Yx",
        "outputId": "79d269c2-72c8-4ba7-c8a5-83df3d422125"
      },
      "execution_count": null,
      "outputs": [
        {
          "output_type": "stream",
          "name": "stdout",
          "text": [
            "Convex program objective value (eq (8)):  0.06956456608678105\n"
          ]
        }
      ]
    }
  ]
}
